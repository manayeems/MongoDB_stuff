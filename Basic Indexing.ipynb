{
 "cells": [
  {
   "cell_type": "code",
   "execution_count": null,
   "metadata": {},
   "outputs": [],
   "source": [
    "#Connect to DB via MongoS (our mongos is running at port 27200 on localhost)"
   ]
  },
  {
   "cell_type": "code",
   "execution_count": 5,
   "metadata": {},
   "outputs": [],
   "source": [
    "import pymongo\n",
    "cli = pymongo.MongoClient('localhost', 27200)\n",
    "db = cli.mongoMart\n",
    "coll = db.restaurants"
   ]
  },
  {
   "cell_type": "markdown",
   "metadata": {},
   "source": [
    "# B-tree indexes"
   ]
  },
  {
   "cell_type": "code",
   "execution_count": 7,
   "metadata": {},
   "outputs": [],
   "source": [
    "coll.drop_indexes()"
   ]
  },
  {
   "cell_type": "code",
   "execution_count": 8,
   "metadata": {},
   "outputs": [
    {
     "data": {
      "text/plain": [
       "{'_id_': {'v': 2, 'key': [('_id', 1)]}}"
      ]
     },
     "execution_count": 8,
     "metadata": {},
     "output_type": "execute_result"
    }
   ],
   "source": [
    "coll.index_information()"
   ]
  },
  {
   "cell_type": "code",
   "execution_count": 6,
   "metadata": {},
   "outputs": [
    {
     "data": {
      "text/plain": [
       "{'_id': ObjectId('60abc72b99e7e0f50266f015'),\n",
       " 'name': 'Daniel',\n",
       " 'cuisine': 'Sushi',\n",
       " 'stars': 1.8,\n",
       " 'address': {'street': '844 Ozaiti Terrace',\n",
       "  'city': 'Puugilu',\n",
       "  'state': 'DC',\n",
       "  'zipcode': '87625'}}"
      ]
     },
     "execution_count": 6,
     "metadata": {},
     "output_type": "execute_result"
    }
   ],
   "source": [
    "coll.find_one()"
   ]
  },
  {
   "cell_type": "code",
   "execution_count": 9,
   "metadata": {},
   "outputs": [
    {
     "data": {
      "text/plain": [
       "'name_1'"
      ]
     },
     "execution_count": 9,
     "metadata": {},
     "output_type": "execute_result"
    }
   ],
   "source": [
    "coll.create_index('name')"
   ]
  },
  {
   "cell_type": "code",
   "execution_count": null,
   "metadata": {},
   "outputs": [],
   "source": [
    "coll.create_index([('name', 1)])"
   ]
  },
  {
   "cell_type": "code",
   "execution_count": 10,
   "metadata": {},
   "outputs": [
    {
     "data": {
      "text/plain": [
       "'name_1'"
      ]
     },
     "execution_count": 10,
     "metadata": {},
     "output_type": "execute_result"
    }
   ],
   "source": [
    "coll.create_index([('name', pymongo.ASCENDING)])"
   ]
  },
  {
   "cell_type": "code",
   "execution_count": 13,
   "metadata": {},
   "outputs": [
    {
     "data": {
      "text/plain": [
       "<pymongo.cursor.Cursor at 0x24fe56cf630>"
      ]
     },
     "execution_count": 13,
     "metadata": {},
     "output_type": "execute_result"
    }
   ],
   "source": [
    "q = coll.find({'name': 'Dunkin Donuts'})\n",
    "q"
   ]
  },
  {
   "cell_type": "code",
   "execution_count": 14,
   "metadata": {},
   "outputs": [
    {
     "data": {
      "text/plain": [
       "set()"
      ]
     },
     "execution_count": 14,
     "metadata": {},
     "output_type": "execute_result"
    }
   ],
   "source": [
    "set(doc['cuisine'] for doc in q)"
   ]
  },
  {
   "cell_type": "code",
   "execution_count": 15,
   "metadata": {},
   "outputs": [
    {
     "data": {
      "text/plain": [
       "'name_1_cuisine_1'"
      ]
     },
     "execution_count": 15,
     "metadata": {},
     "output_type": "execute_result"
    }
   ],
   "source": [
    "coll.create_index([('name', 1), ('cuisine', 1)])"
   ]
  },
  {
   "cell_type": "code",
   "execution_count": 16,
   "metadata": {},
   "outputs": [],
   "source": [
    "coll.drop_index('name_1')"
   ]
  },
  {
   "cell_type": "code",
   "execution_count": 17,
   "metadata": {
    "scrolled": true
   },
   "outputs": [
    {
     "data": {
      "text/plain": [
       "[]"
      ]
     },
     "execution_count": 17,
     "metadata": {},
     "output_type": "execute_result"
    }
   ],
   "source": [
    "q = coll.find(\n",
    "    {'name': 'Dunkin Donuts', 'cuisine': 'Armenian'},\n",
    "    {'name': 1, 'borough': 1, '_id': 0})\n",
    "list(q)    "
   ]
  },
  {
   "cell_type": "markdown",
   "metadata": {},
   "source": [
    "# Using `explain()`"
   ]
  },
  {
   "cell_type": "code",
   "execution_count": 18,
   "metadata": {},
   "outputs": [],
   "source": [
    "coll.drop_indexes()"
   ]
  },
  {
   "cell_type": "code",
   "execution_count": 19,
   "metadata": {},
   "outputs": [
    {
     "data": {
      "text/plain": [
       "{'queryPlanner': {'mongosPlannerVersion': 1,\n",
       "  'winningPlan': {'stage': 'SHARD_MERGE',\n",
       "   'shards': [{'shardName': 'shard3rs',\n",
       "     'connectionString': 'shard3rs/localhost:2007,localhost:2008,localhost:2009',\n",
       "     'serverInfo': {'host': 'DESKTOP-P7RG4I0',\n",
       "      'port': 2009,\n",
       "      'version': '4.4.6',\n",
       "      'gitVersion': '72e66213c2c3eab37d9358d5e78ad7f5c1d0d0d7'},\n",
       "     'plannerVersion': 1,\n",
       "     'namespace': 'mongoMart.restaurants',\n",
       "     'indexFilterSet': False,\n",
       "     'parsedQuery': {'name': {'$eq': 'Dunkin Donuts'}},\n",
       "     'winningPlan': {'stage': 'SHARDING_FILTER',\n",
       "      'inputStage': {'stage': 'COLLSCAN',\n",
       "       'filter': {'name': {'$eq': 'Dunkin Donuts'}},\n",
       "       'direction': 'forward'}},\n",
       "     'rejectedPlans': []},\n",
       "    {'shardName': 'shard2rs',\n",
       "     'connectionString': 'shard2rs/localhost:2004,localhost:2005,localhost:2006',\n",
       "     'serverInfo': {'host': 'DESKTOP-P7RG4I0',\n",
       "      'port': 2004,\n",
       "      'version': '4.4.6',\n",
       "      'gitVersion': '72e66213c2c3eab37d9358d5e78ad7f5c1d0d0d7'},\n",
       "     'plannerVersion': 1,\n",
       "     'namespace': 'mongoMart.restaurants',\n",
       "     'indexFilterSet': False,\n",
       "     'parsedQuery': {'name': {'$eq': 'Dunkin Donuts'}},\n",
       "     'winningPlan': {'stage': 'SHARDING_FILTER',\n",
       "      'inputStage': {'stage': 'COLLSCAN',\n",
       "       'filter': {'name': {'$eq': 'Dunkin Donuts'}},\n",
       "       'direction': 'forward'}},\n",
       "     'rejectedPlans': []},\n",
       "    {'shardName': 'shard4rs',\n",
       "     'connectionString': 'shard4rs/localhost:20015,localhost:20016,localhost:20017',\n",
       "     'serverInfo': {'host': 'DESKTOP-P7RG4I0',\n",
       "      'port': 20015,\n",
       "      'version': '4.4.6',\n",
       "      'gitVersion': '72e66213c2c3eab37d9358d5e78ad7f5c1d0d0d7'},\n",
       "     'plannerVersion': 1,\n",
       "     'namespace': 'mongoMart.restaurants',\n",
       "     'indexFilterSet': False,\n",
       "     'parsedQuery': {'name': {'$eq': 'Dunkin Donuts'}},\n",
       "     'winningPlan': {'stage': 'SHARDING_FILTER',\n",
       "      'inputStage': {'stage': 'COLLSCAN',\n",
       "       'filter': {'name': {'$eq': 'Dunkin Donuts'}},\n",
       "       'direction': 'forward'}},\n",
       "     'rejectedPlans': []}]}},\n",
       " 'executionStats': {'nReturned': 0,\n",
       "  'executionTimeMillis': 312,\n",
       "  'totalKeysExamined': 0,\n",
       "  'totalDocsExamined': 1000000,\n",
       "  'executionStages': {'stage': 'SHARD_MERGE',\n",
       "   'nReturned': 0,\n",
       "   'executionTimeMillis': 312,\n",
       "   'totalKeysExamined': 0,\n",
       "   'totalDocsExamined': 1000000,\n",
       "   'totalChildMillis': 901,\n",
       "   'shards': [{'shardName': 'shard3rs',\n",
       "     'executionSuccess': True,\n",
       "     'nReturned': 0,\n",
       "     'executionTimeMillis': 298,\n",
       "     'totalKeysExamined': 0,\n",
       "     'totalDocsExamined': 332843,\n",
       "     'executionStages': {'stage': 'SHARDING_FILTER',\n",
       "      'nReturned': 0,\n",
       "      'executionTimeMillisEstimate': 26,\n",
       "      'works': 332845,\n",
       "      'advanced': 0,\n",
       "      'needTime': 332844,\n",
       "      'needYield': 0,\n",
       "      'saveState': 332,\n",
       "      'restoreState': 332,\n",
       "      'isEOF': 1,\n",
       "      'chunkSkips': 0,\n",
       "      'inputStage': {'stage': 'COLLSCAN',\n",
       "       'filter': {'name': {'$eq': 'Dunkin Donuts'}},\n",
       "       'nReturned': 0,\n",
       "       'executionTimeMillisEstimate': 25,\n",
       "       'works': 332845,\n",
       "       'advanced': 0,\n",
       "       'needTime': 332844,\n",
       "       'needYield': 0,\n",
       "       'saveState': 332,\n",
       "       'restoreState': 332,\n",
       "       'isEOF': 1,\n",
       "       'direction': 'forward',\n",
       "       'docsExamined': 332843}},\n",
       "     'allPlansExecution': []},\n",
       "    {'shardName': 'shard2rs',\n",
       "     'executionSuccess': True,\n",
       "     'nReturned': 0,\n",
       "     'executionTimeMillis': 301,\n",
       "     'totalKeysExamined': 0,\n",
       "     'totalDocsExamined': 333202,\n",
       "     'executionStages': {'stage': 'SHARDING_FILTER',\n",
       "      'nReturned': 0,\n",
       "      'executionTimeMillisEstimate': 31,\n",
       "      'works': 333204,\n",
       "      'advanced': 0,\n",
       "      'needTime': 333203,\n",
       "      'needYield': 0,\n",
       "      'saveState': 333,\n",
       "      'restoreState': 333,\n",
       "      'isEOF': 1,\n",
       "      'chunkSkips': 0,\n",
       "      'inputStage': {'stage': 'COLLSCAN',\n",
       "       'filter': {'name': {'$eq': 'Dunkin Donuts'}},\n",
       "       'nReturned': 0,\n",
       "       'executionTimeMillisEstimate': 29,\n",
       "       'works': 333204,\n",
       "       'advanced': 0,\n",
       "       'needTime': 333203,\n",
       "       'needYield': 0,\n",
       "       'saveState': 333,\n",
       "       'restoreState': 333,\n",
       "       'isEOF': 1,\n",
       "       'direction': 'forward',\n",
       "       'docsExamined': 333202}},\n",
       "     'allPlansExecution': []},\n",
       "    {'shardName': 'shard4rs',\n",
       "     'executionSuccess': True,\n",
       "     'nReturned': 0,\n",
       "     'executionTimeMillis': 302,\n",
       "     'totalKeysExamined': 0,\n",
       "     'totalDocsExamined': 333955,\n",
       "     'executionStages': {'stage': 'SHARDING_FILTER',\n",
       "      'nReturned': 0,\n",
       "      'executionTimeMillisEstimate': 32,\n",
       "      'works': 333957,\n",
       "      'advanced': 0,\n",
       "      'needTime': 333956,\n",
       "      'needYield': 0,\n",
       "      'saveState': 333,\n",
       "      'restoreState': 333,\n",
       "      'isEOF': 1,\n",
       "      'chunkSkips': 0,\n",
       "      'inputStage': {'stage': 'COLLSCAN',\n",
       "       'filter': {'name': {'$eq': 'Dunkin Donuts'}},\n",
       "       'nReturned': 0,\n",
       "       'executionTimeMillisEstimate': 30,\n",
       "       'works': 333957,\n",
       "       'advanced': 0,\n",
       "       'needTime': 333956,\n",
       "       'needYield': 0,\n",
       "       'saveState': 333,\n",
       "       'restoreState': 333,\n",
       "       'isEOF': 1,\n",
       "       'direction': 'forward',\n",
       "       'docsExamined': 333955}},\n",
       "     'allPlansExecution': []}]},\n",
       "  'allPlansExecution': [{'shardName': 'shard3rs', 'allPlans': []},\n",
       "   {'shardName': 'shard2rs', 'allPlans': []},\n",
       "   {'shardName': 'shard4rs', 'allPlans': []}]},\n",
       " 'serverInfo': {'host': 'DESKTOP-P7RG4I0',\n",
       "  'port': 27200,\n",
       "  'version': '4.4.6',\n",
       "  'gitVersion': '72e66213c2c3eab37d9358d5e78ad7f5c1d0d0d7'},\n",
       " 'ok': 1.0,\n",
       " 'operationTime': Timestamp(1621884804, 1),\n",
       " '$clusterTime': {'clusterTime': Timestamp(1621884804, 1),\n",
       "  'signature': {'hash': b'\\x00\\x00\\x00\\x00\\x00\\x00\\x00\\x00\\x00\\x00\\x00\\x00\\x00\\x00\\x00\\x00\\x00\\x00\\x00\\x00',\n",
       "   'keyId': 0}}}"
      ]
     },
     "execution_count": 19,
     "metadata": {},
     "output_type": "execute_result"
    }
   ],
   "source": [
    "q = coll.find({'name': 'Dunkin Donuts'})\n",
    "plan = q.explain()\n",
    "plan"
   ]
  },
  {
   "cell_type": "code",
   "execution_count": 20,
   "metadata": {},
   "outputs": [
    {
     "data": {
      "text/plain": [
       "{'stage': 'SHARD_MERGE',\n",
       " 'shards': [{'shardName': 'shard3rs',\n",
       "   'connectionString': 'shard3rs/localhost:2007,localhost:2008,localhost:2009',\n",
       "   'serverInfo': {'host': 'DESKTOP-P7RG4I0',\n",
       "    'port': 2009,\n",
       "    'version': '4.4.6',\n",
       "    'gitVersion': '72e66213c2c3eab37d9358d5e78ad7f5c1d0d0d7'},\n",
       "   'plannerVersion': 1,\n",
       "   'namespace': 'mongoMart.restaurants',\n",
       "   'indexFilterSet': False,\n",
       "   'parsedQuery': {'name': {'$eq': 'Dunkin Donuts'}},\n",
       "   'winningPlan': {'stage': 'SHARDING_FILTER',\n",
       "    'inputStage': {'stage': 'COLLSCAN',\n",
       "     'filter': {'name': {'$eq': 'Dunkin Donuts'}},\n",
       "     'direction': 'forward'}},\n",
       "   'rejectedPlans': []},\n",
       "  {'shardName': 'shard2rs',\n",
       "   'connectionString': 'shard2rs/localhost:2004,localhost:2005,localhost:2006',\n",
       "   'serverInfo': {'host': 'DESKTOP-P7RG4I0',\n",
       "    'port': 2004,\n",
       "    'version': '4.4.6',\n",
       "    'gitVersion': '72e66213c2c3eab37d9358d5e78ad7f5c1d0d0d7'},\n",
       "   'plannerVersion': 1,\n",
       "   'namespace': 'mongoMart.restaurants',\n",
       "   'indexFilterSet': False,\n",
       "   'parsedQuery': {'name': {'$eq': 'Dunkin Donuts'}},\n",
       "   'winningPlan': {'stage': 'SHARDING_FILTER',\n",
       "    'inputStage': {'stage': 'COLLSCAN',\n",
       "     'filter': {'name': {'$eq': 'Dunkin Donuts'}},\n",
       "     'direction': 'forward'}},\n",
       "   'rejectedPlans': []},\n",
       "  {'shardName': 'shard4rs',\n",
       "   'connectionString': 'shard4rs/localhost:20015,localhost:20016,localhost:20017',\n",
       "   'serverInfo': {'host': 'DESKTOP-P7RG4I0',\n",
       "    'port': 20015,\n",
       "    'version': '4.4.6',\n",
       "    'gitVersion': '72e66213c2c3eab37d9358d5e78ad7f5c1d0d0d7'},\n",
       "   'plannerVersion': 1,\n",
       "   'namespace': 'mongoMart.restaurants',\n",
       "   'indexFilterSet': False,\n",
       "   'parsedQuery': {'name': {'$eq': 'Dunkin Donuts'}},\n",
       "   'winningPlan': {'stage': 'SHARDING_FILTER',\n",
       "    'inputStage': {'stage': 'COLLSCAN',\n",
       "     'filter': {'name': {'$eq': 'Dunkin Donuts'}},\n",
       "     'direction': 'forward'}},\n",
       "   'rejectedPlans': []}]}"
      ]
     },
     "execution_count": 20,
     "metadata": {},
     "output_type": "execute_result"
    }
   ],
   "source": [
    "plan['queryPlanner']['winningPlan']"
   ]
  },
  {
   "cell_type": "code",
   "execution_count": null,
   "metadata": {
    "scrolled": true
   },
   "outputs": [],
   "source": [
    "plan['executionStats']['executionStages']"
   ]
  },
  {
   "cell_type": "code",
   "execution_count": null,
   "metadata": {
    "collapsed": true
   },
   "outputs": [],
   "source": [
    "from pprint import pprint\n",
    "def plan_summary(plan):\n",
    "    winningPlan = plan['queryPlanner']['winningPlan']\n",
    "    executionStages = plan['executionStats']['executionStages']\n",
    "    print('Winning Plan')\n",
    "    pprint(winningPlan)\n",
    "    print()\n",
    "    print('Execution Stages')\n",
    "    pprint(executionStages)"
   ]
  },
  {
   "cell_type": "code",
   "execution_count": null,
   "metadata": {},
   "outputs": [],
   "source": [
    "plan_summary(plan)"
   ]
  },
  {
   "cell_type": "code",
   "execution_count": null,
   "metadata": {},
   "outputs": [],
   "source": [
    "coll.create_index('name')"
   ]
  },
  {
   "cell_type": "code",
   "execution_count": null,
   "metadata": {},
   "outputs": [],
   "source": [
    "q = coll.find({'name': 'Dunkin Donuts'})\n",
    "plan = q.explain()\n",
    "plan_summary(plan)"
   ]
  },
  {
   "cell_type": "code",
   "execution_count": null,
   "metadata": {
    "scrolled": true
   },
   "outputs": [],
   "source": [
    "plan['executionStats']['executionStages']"
   ]
  },
  {
   "cell_type": "code",
   "execution_count": null,
   "metadata": {},
   "outputs": [],
   "source": [
    "from pprint import pprint\n",
    "def plan_summary(plan):\n",
    "    winningPlan = plan['queryPlanner']['winningPlan']\n",
    "    stages = []\n",
    "    stage = plan['executionStats']['executionStages']\n",
    "    while stage:\n",
    "        inputStage = stage.pop('inputStage', None)\n",
    "        stages.append(stage)\n",
    "        stage = inputStage\n",
    "    stages.reverse()\n",
    "    print('Winning Plan')\n",
    "    pprint(winningPlan)\n",
    "    print()\n",
    "    print('Execution Stages')\n",
    "    for stage in stages:\n",
    "        pprint(stage)\n",
    "        print('--')"
   ]
  },
  {
   "cell_type": "code",
   "execution_count": null,
   "metadata": {},
   "outputs": [],
   "source": [
    "plan_summary(plan)"
   ]
  },
  {
   "cell_type": "code",
   "execution_count": null,
   "metadata": {
    "scrolled": false
   },
   "outputs": [],
   "source": [
    "q = coll.find({'name': 'Dunkin Donuts', 'cuisine': 'Armenian'})\n",
    "plan = q.explain()\n",
    "plan_summary(plan)"
   ]
  },
  {
   "cell_type": "code",
   "execution_count": null,
   "metadata": {
    "collapsed": true
   },
   "outputs": [],
   "source": [
    "coll.create_index([('name', 1), ('cuisine', 1)])\n",
    "coll.drop_index('name_1')"
   ]
  },
  {
   "cell_type": "code",
   "execution_count": null,
   "metadata": {},
   "outputs": [],
   "source": [
    "q = coll.find({'name': 'Dunkin Donuts', 'cuisine': 'Armenian'})\n",
    "plan = q.explain()\n",
    "plan_summary(plan)"
   ]
  },
  {
   "cell_type": "code",
   "execution_count": null,
   "metadata": {},
   "outputs": [],
   "source": [
    "q = coll.find({'name': 'Dunkin Donuts'})\n",
    "plan = q.explain()\n",
    "plan_summary(plan)"
   ]
  },
  {
   "cell_type": "markdown",
   "metadata": {},
   "source": [
    "### Range / prefix queries"
   ]
  },
  {
   "cell_type": "code",
   "execution_count": null,
   "metadata": {},
   "outputs": [],
   "source": [
    "import re\n",
    "q = coll.find({'name': re.compile('^Dunkin.* Donuts$')})\n",
    "plan = q.explain()\n",
    "plan_summary(plan)"
   ]
  },
  {
   "cell_type": "code",
   "execution_count": null,
   "metadata": {},
   "outputs": [],
   "source": [
    "q.distinct('name')"
   ]
  },
  {
   "cell_type": "code",
   "execution_count": null,
   "metadata": {},
   "outputs": [],
   "source": [
    "coll.drop_indexes()\n",
    "coll.create_index([('cuisine', 1), ('name', 1)])"
   ]
  },
  {
   "cell_type": "code",
   "execution_count": null,
   "metadata": {},
   "outputs": [],
   "source": [
    "q = coll.find({'name': re.compile('^Dunkin.* Donuts$')})\n",
    "plan = q.explain()\n",
    "plan_summary(plan)"
   ]
  },
  {
   "cell_type": "code",
   "execution_count": null,
   "metadata": {},
   "outputs": [],
   "source": [
    "q = coll.find({'name': re.compile('^Dunkin.* Donuts$'), 'cuisine': 'Donuts'})\n",
    "plan = q.explain()\n",
    "plan_summary(plan)"
   ]
  },
  {
   "cell_type": "code",
   "execution_count": null,
   "metadata": {},
   "outputs": [],
   "source": [
    "coll.find_one()"
   ]
  },
  {
   "cell_type": "code",
   "execution_count": null,
   "metadata": {},
   "outputs": [],
   "source": [
    "coll.drop_indexes()\n",
    "coll.create_index('name')"
   ]
  },
  {
   "cell_type": "code",
   "execution_count": null,
   "metadata": {},
   "outputs": [],
   "source": [
    "q = coll.find({\n",
    "    'name': 'Dunkin Donuts', \n",
    "    'address.zipcode': {'$gte': '10460', '$lte': '10462'}})\n",
    "plan = q.explain()\n",
    "plan_summary(plan)"
   ]
  },
  {
   "cell_type": "code",
   "execution_count": null,
   "metadata": {},
   "outputs": [],
   "source": [
    "coll.create_index([('name',1), ('address.zipcode', 1)])"
   ]
  },
  {
   "cell_type": "code",
   "execution_count": null,
   "metadata": {},
   "outputs": [],
   "source": [
    "q = coll.find({'name': 'Dunkin Donuts', 'address.zipcode': {'$gte': '10460', '$lte': '10462'}})\n",
    "plan = q.explain()\n",
    "plan_summary(plan)"
   ]
  },
  {
   "cell_type": "markdown",
   "metadata": {},
   "source": [
    "# Sorting"
   ]
  },
  {
   "cell_type": "code",
   "execution_count": null,
   "metadata": {},
   "outputs": [],
   "source": [
    "coll.drop_indexes()\n",
    "coll.create_index('name')\n",
    "q = coll.find({'name': 'Dunkin Donuts'})\n",
    "q = q.sort('address.zipcode')\n",
    "plan = q.explain()\n",
    "plan_summary(plan)"
   ]
  },
  {
   "cell_type": "code",
   "execution_count": null,
   "metadata": {},
   "outputs": [],
   "source": [
    "coll.drop_indexes()\n",
    "coll.create_index([('name', 1), ('address.zipcode', 1)])"
   ]
  },
  {
   "cell_type": "code",
   "execution_count": null,
   "metadata": {},
   "outputs": [],
   "source": [
    "q = coll.find({'name': 'Dunkin Donuts'})\n",
    "q = q.sort('address.zipcode')\n",
    "plan = q.explain()\n",
    "plan_summary(plan)"
   ]
  },
  {
   "cell_type": "code",
   "execution_count": null,
   "metadata": {},
   "outputs": [],
   "source": [
    "q = coll.find({\n",
    "    'name': 'Dunkin Donuts', \n",
    "    'address.zipcode': {'$gte': '10460', '$lte': '10462'}})\n",
    "q = q.sort('borough')\n",
    "plan = q.explain()\n",
    "plan_summary(plan)"
   ]
  },
  {
   "cell_type": "code",
   "execution_count": null,
   "metadata": {},
   "outputs": [],
   "source": [
    "coll.drop_indexes()\n",
    "coll.create_index([\n",
    "    ('name', 1),\n",
    "    ('borough', 1),\n",
    "    ('address.zipcode', 1)\n",
    "])\n",
    "q = coll.find({\n",
    "    'name': 'Dunkin Donuts', \n",
    "    'address.zipcode': {'$gte': '10460', '$lte': '10462'}})\n",
    "q = q.sort('borough')\n",
    "plan = q.explain()\n",
    "plan_summary(plan)"
   ]
  },
  {
   "cell_type": "markdown",
   "metadata": {},
   "source": [
    "## Sorting with Ranges Trade-off\n",
    "\n",
    "- Sort before range examines more _index keys_\n",
    "- Range before sort generates more _stages_ in the query\n",
    "\n",
    "Always arrange you index with\n",
    "\n",
    "1. Exact matches\n",
    "1. Sort keys\n",
    "1. Range matches\n",
    "\n",
    "... in that order"
   ]
  }
 ],
 "metadata": {
  "kernelspec": {
   "display_name": "Python 3",
   "language": "python",
   "name": "python3"
  },
  "language_info": {
   "codemirror_mode": {
    "name": "ipython",
    "version": 3
   },
   "file_extension": ".py",
   "mimetype": "text/x-python",
   "name": "python",
   "nbconvert_exporter": "python",
   "pygments_lexer": "ipython3",
   "version": "3.7.1"
  }
 },
 "nbformat": 4,
 "nbformat_minor": 2
}
