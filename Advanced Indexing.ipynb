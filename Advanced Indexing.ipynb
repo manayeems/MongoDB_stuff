{
 "cells": [
  {
   "cell_type": "code",
   "execution_count": null,
   "metadata": {},
   "outputs": [],
   "source": [
    "# Connect to mongos"
   ]
  },
  {
   "cell_type": "code",
   "execution_count": null,
   "metadata": {},
   "outputs": [],
   "source": [
    "import pymongo\n",
    "cli = pymongo.MongoClient('localhost', 27200)\n",
    "db = cli.mongoMart\n",
    "coll = db.restaurants"
   ]
  },
  {
   "cell_type": "code",
   "execution_count": null,
   "metadata": {},
   "outputs": [],
   "source": [
    "coll.drop_indexes()"
   ]
  },
  {
   "cell_type": "markdown",
   "metadata": {},
   "source": [
    "# Covered queries"
   ]
  },
  {
   "cell_type": "code",
   "execution_count": null,
   "metadata": {},
   "outputs": [],
   "source": [
    "coll.find_one()"
   ]
  },
  {
   "cell_type": "code",
   "execution_count": null,
   "metadata": {},
   "outputs": [],
   "source": [
    "coll.create_index([\n",
    "    ('borough', 1),\n",
    "    ('cuisine', 1),\n",
    "    ('name', 1)\n",
    "])"
   ]
  },
  {
   "cell_type": "code",
   "execution_count": null,
   "metadata": {},
   "outputs": [],
   "source": [
    "q = coll.find(\n",
    "    {\n",
    "        'borough': 'Bronx'\n",
    "    },\n",
    "    {\n",
    "        'cuisine': 1,\n",
    "        'name': 1\n",
    "    }\n",
    ")\n",
    "list(q.limit(5))"
   ]
  },
  {
   "cell_type": "code",
   "execution_count": null,
   "metadata": {},
   "outputs": [],
   "source": [
    "from pprint import pprint\n",
    "def plan_summary(plan):\n",
    "    winningPlan = plan['queryPlanner']['winningPlan']\n",
    "    stages = []\n",
    "    stage = plan['executionStats']['executionStages']\n",
    "    while stage:\n",
    "        inputStage = stage.pop('inputStage', None)\n",
    "        stages.append(stage)\n",
    "        stage = inputStage\n",
    "    stages.reverse()\n",
    "    print('Execution Stages')\n",
    "    for stage in stages:\n",
    "        pprint(stage)\n",
    "        print('--')"
   ]
  },
  {
   "cell_type": "code",
   "execution_count": null,
   "metadata": {},
   "outputs": [],
   "source": [
    "plan_summary(q.explain())"
   ]
  },
  {
   "cell_type": "code",
   "execution_count": null,
   "metadata": {},
   "outputs": [],
   "source": [
    "q = coll.find(\n",
    "    {\n",
    "        'borough': 'Bronx'\n",
    "    },\n",
    "    {\n",
    "        'cuisine': 1,\n",
    "        'name': 1,\n",
    "        '_id': 0\n",
    "    }\n",
    ")\n",
    "list(q.limit(5))"
   ]
  },
  {
   "cell_type": "code",
   "execution_count": null,
   "metadata": {},
   "outputs": [],
   "source": [
    "plan_summary(q.explain())"
   ]
  },
  {
   "cell_type": "markdown",
   "metadata": {},
   "source": [
    "# Geospatial Indexing"
   ]
  },
  {
   "cell_type": "code",
   "execution_count": null,
   "metadata": {},
   "outputs": [],
   "source": [
    "coll.create_index([\n",
    "    ('address.coord', '2dsphere')  # longitude, latitude \n",
    "])"
   ]
  },
  {
   "cell_type": "code",
   "execution_count": null,
   "metadata": {},
   "outputs": [],
   "source": [
    "doc = coll.find_one()"
   ]
  },
  {
   "cell_type": "code",
   "execution_count": null,
   "metadata": {},
   "outputs": [],
   "source": [
    "doc"
   ]
  },
  {
   "cell_type": "code",
   "execution_count": null,
   "metadata": {},
   "outputs": [],
   "source": [
    "q = coll.find(\n",
    "    {'address.coord': {\n",
    "        '$nearSphere': doc['address']['coord']\n",
    "    }},\n",
    "    {'_id': 0, 'name': 1, 'address.coord': 1}\n",
    ").limit(5)\n",
    "list(q)"
   ]
  },
  {
   "cell_type": "code",
   "execution_count": null,
   "metadata": {},
   "outputs": [],
   "source": [
    "point = {\n",
    "    '$type': 'Point',\n",
    "    'coordinates': doc['address']['coord']\n",
    "}\n",
    "q = coll.find(\n",
    "    {'address.coord': {'$nearSphere': {'$geometry': point}}},\n",
    "    {'_id': 0, 'name': 1, 'address.coord': 1}\n",
    ").limit(5)\n",
    "list(q)"
   ]
  },
  {
   "cell_type": "code",
   "execution_count": null,
   "metadata": {},
   "outputs": [],
   "source": [
    "res = db.command('geoNear', 'restaurants', near=point, spherical=True)\n",
    "res"
   ]
  },
  {
   "cell_type": "code",
   "execution_count": null,
   "metadata": {},
   "outputs": [],
   "source": [
    "for i, doc in enumerate(res['results']):\n",
    "    if i > 5:\n",
    "        break\n",
    "    print('{:.1f} meters away: {}'.format(doc['dis'], doc['obj']['name']))"
   ]
  },
  {
   "cell_type": "markdown",
   "metadata": {},
   "source": [
    "# Full-text search and indexing"
   ]
  },
  {
   "cell_type": "code",
   "execution_count": null,
   "metadata": {},
   "outputs": [],
   "source": [
    "import re\n",
    "q_re = coll.find({'name': re.compile('^Dunkin')})\n",
    "q_re.count()"
   ]
  },
  {
   "cell_type": "code",
   "execution_count": null,
   "metadata": {},
   "outputs": [],
   "source": [
    "coll.create_index([('name', 'text')])"
   ]
  },
  {
   "cell_type": "code",
   "execution_count": null,
   "metadata": {},
   "outputs": [],
   "source": [
    "q_text = coll.find({'$text': {\n",
    "    '$search': 'Dunkin',\n",
    "    '$caseSensitive': True\n",
    "}})\n",
    "q_text.count()"
   ]
  },
  {
   "cell_type": "code",
   "execution_count": null,
   "metadata": {},
   "outputs": [],
   "source": [
    "found_with_re = {doc['_id'] for doc in q_re}\n",
    "found_with_text = {doc['_id'] for doc in q_text}"
   ]
  },
  {
   "cell_type": "code",
   "execution_count": null,
   "metadata": {},
   "outputs": [],
   "source": [
    "print('Found with re but not text:')\n",
    "for _id in found_with_re - found_with_text:\n",
    "    print(coll.find_one({'_id': _id}, {'name': 1}))\n",
    "print('Found with text but not re:')\n",
    "for _id in found_with_text - found_with_re:\n",
    "    print(coll.find_one({'_id': _id}, {'name': 1}))"
   ]
  },
  {
   "cell_type": "code",
   "execution_count": null,
   "metadata": {},
   "outputs": [],
   "source": [
    "coll.drop_indexes()"
   ]
  },
  {
   "cell_type": "code",
   "execution_count": null,
   "metadata": {},
   "outputs": [],
   "source": [
    "coll.create_index([(\"$**\", \"text\")])"
   ]
  },
  {
   "cell_type": "code",
   "execution_count": null,
   "metadata": {},
   "outputs": [],
   "source": [
    "q_text = coll.find({'$text': {\n",
    "    '$search': 'donut'     # finds everything with donut in name, cuisine, borough, or address\n",
    "}})\n",
    "q_text.count()"
   ]
  },
  {
   "cell_type": "code",
   "execution_count": null,
   "metadata": {},
   "outputs": [],
   "source": [
    "q_text = coll.find({'$text': {\n",
    "    '$search': 'queen'     # finds everything with queen in name, cuisine, borough, or address (incl. \"Queens\")\n",
    "}})\n",
    "q_text.count()"
   ]
  },
  {
   "cell_type": "code",
   "execution_count": null,
   "metadata": {},
   "outputs": [],
   "source": []
  }
 ],
 "metadata": {
  "kernelspec": {
   "display_name": "Python 3",
   "language": "python",
   "name": "python3"
  },
  "language_info": {
   "codemirror_mode": {
    "name": "ipython",
    "version": 3
   },
   "file_extension": ".py",
   "mimetype": "text/x-python",
   "name": "python",
   "nbconvert_exporter": "python",
   "pygments_lexer": "ipython3",
   "version": "3.7.1"
  }
 },
 "nbformat": 4,
 "nbformat_minor": 2
}
