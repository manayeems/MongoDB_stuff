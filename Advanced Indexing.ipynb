{
 "cells": [
  {
   "cell_type": "markdown",
   "metadata": {},
   "source": [
    "# Connect to DB via MongoS (our mongos is running at port 27200 on localhost)"
   ]
  },
  {
   "cell_type": "code",
   "execution_count": 1,
   "metadata": {},
   "outputs": [],
   "source": [
    "import pymongo\n",
    "cli = pymongo.MongoClient('localhost', 27200)\n",
    "db = cli.mongoMart\n",
    "coll = db.restaurants"
   ]
  },
  {
   "cell_type": "code",
   "execution_count": 2,
   "metadata": {},
   "outputs": [],
   "source": [
    "coll.drop_indexes()"
   ]
  },
  {
   "cell_type": "markdown",
   "metadata": {},
   "source": [
    "# Covered queries"
   ]
  },
  {
   "cell_type": "code",
   "execution_count": 3,
   "metadata": {},
   "outputs": [
    {
     "data": {
      "text/plain": [
       "{'_id': ObjectId('60abc72b99e7e0f50266f00f'),\n",
       " 'name': 'Altius',\n",
       " 'cuisine': 'Japanese',\n",
       " 'stars': 3.1,\n",
       " 'address': {'street': '1178 Ocoge Glen',\n",
       "  'city': 'Ratizbu',\n",
       "  'state': 'SD',\n",
       "  'zipcode': '14557'}}"
      ]
     },
     "execution_count": 3,
     "metadata": {},
     "output_type": "execute_result"
    }
   ],
   "source": [
    "coll.find_one()"
   ]
  },
  {
   "cell_type": "code",
   "execution_count": 4,
   "metadata": {},
   "outputs": [
    {
     "data": {
      "text/plain": [
       "'borough_1_cuisine_1_name_1'"
      ]
     },
     "execution_count": 4,
     "metadata": {},
     "output_type": "execute_result"
    }
   ],
   "source": [
    "coll.create_index([\n",
    "    ('borough', 1),\n",
    "    ('cuisine', 1),\n",
    "    ('name', 1)\n",
    "])"
   ]
  },
  {
   "cell_type": "code",
   "execution_count": 5,
   "metadata": {},
   "outputs": [
    {
     "data": {
      "text/plain": [
       "[]"
      ]
     },
     "execution_count": 5,
     "metadata": {},
     "output_type": "execute_result"
    }
   ],
   "source": [
    "q = coll.find(\n",
    "    {\n",
    "        'borough': 'Bronx'\n",
    "    },\n",
    "    {\n",
    "        'cuisine': 1,\n",
    "        'name': 1\n",
    "    }\n",
    ")\n",
    "list(q.limit(5))"
   ]
  },
  {
   "cell_type": "code",
   "execution_count": 6,
   "metadata": {},
   "outputs": [],
   "source": [
    "from pprint import pprint\n",
    "def plan_summary(plan):\n",
    "    winningPlan = plan['queryPlanner']['winningPlan']\n",
    "    stages = []\n",
    "    stage = plan['executionStats']['executionStages']\n",
    "    while stage:\n",
    "        inputStage = stage.pop('inputStage', None)\n",
    "        stages.append(stage)\n",
    "        stage = inputStage\n",
    "    stages.reverse()\n",
    "    print('Execution Stages')\n",
    "    for stage in stages:\n",
    "        pprint(stage)\n",
    "        print('--')"
   ]
  },
  {
   "cell_type": "code",
   "execution_count": 7,
   "metadata": {},
   "outputs": [
    {
     "name": "stdout",
     "output_type": "stream",
     "text": [
      "Execution Stages\n",
      "{'executionTimeMillis': 1,\n",
      " 'nReturned': 0,\n",
      " 'shards': [{'allPlansExecution': [],\n",
      "             'executionStages': {'advanced': 0,\n",
      "                                 'executionTimeMillisEstimate': 0,\n",
      "                                 'inputStage': {'advanced': 0,\n",
      "                                                'executionTimeMillisEstimate': 0,\n",
      "                                                'inputStage': {'advanced': 0,\n",
      "                                                               'chunkSkips': 0,\n",
      "                                                               'executionTimeMillisEstimate': 0,\n",
      "                                                               'inputStage': {'advanced': 0,\n",
      "                                                                              'alreadyHasObj': 0,\n",
      "                                                                              'docsExamined': 0,\n",
      "                                                                              'executionTimeMillisEstimate': 0,\n",
      "                                                                              'inputStage': {'advanced': 0,\n",
      "                                                                                             'direction': 'forward',\n",
      "                                                                                             'dupsDropped': 0,\n",
      "                                                                                             'dupsTested': 0,\n",
      "                                                                                             'executionTimeMillisEstimate': 0,\n",
      "                                                                                             'indexBounds': {'borough': ['[\"Bronx\", '\n",
      "                                                                                                                         '\"Bronx\"]'],\n",
      "                                                                                                             'cuisine': ['[MinKey, '\n",
      "                                                                                                                         'MaxKey]'],\n",
      "                                                                                                             'name': ['[MinKey, '\n",
      "                                                                                                                      'MaxKey]']},\n",
      "                                                                                             'indexName': 'borough_1_cuisine_1_name_1',\n",
      "                                                                                             'indexVersion': 2,\n",
      "                                                                                             'isEOF': 1,\n",
      "                                                                                             'isMultiKey': False,\n",
      "                                                                                             'isPartial': False,\n",
      "                                                                                             'isSparse': False,\n",
      "                                                                                             'isUnique': False,\n",
      "                                                                                             'keyPattern': {'borough': 1,\n",
      "                                                                                                            'cuisine': 1,\n",
      "                                                                                                            'name': 1},\n",
      "                                                                                             'keysExamined': 0,\n",
      "                                                                                             'multiKeyPaths': {'borough': [],\n",
      "                                                                                                               'cuisine': [],\n",
      "                                                                                                               'name': []},\n",
      "                                                                                             'nReturned': 0,\n",
      "                                                                                             'needTime': 0,\n",
      "                                                                                             'needYield': 0,\n",
      "                                                                                             'restoreState': 0,\n",
      "                                                                                             'saveState': 0,\n",
      "                                                                                             'seeks': 1,\n",
      "                                                                                             'stage': 'IXSCAN',\n",
      "                                                                                             'works': 1},\n",
      "                                                                              'isEOF': 1,\n",
      "                                                                              'nReturned': 0,\n",
      "                                                                              'needTime': 0,\n",
      "                                                                              'needYield': 0,\n",
      "                                                                              'restoreState': 0,\n",
      "                                                                              'saveState': 0,\n",
      "                                                                              'stage': 'FETCH',\n",
      "                                                                              'works': 1},\n",
      "                                                               'isEOF': 1,\n",
      "                                                               'nReturned': 0,\n",
      "                                                               'needTime': 0,\n",
      "                                                               'needYield': 0,\n",
      "                                                               'restoreState': 0,\n",
      "                                                               'saveState': 0,\n",
      "                                                               'stage': 'SHARDING_FILTER',\n",
      "                                                               'works': 1},\n",
      "                                                'isEOF': 1,\n",
      "                                                'nReturned': 0,\n",
      "                                                'needTime': 0,\n",
      "                                                'needYield': 0,\n",
      "                                                'restoreState': 0,\n",
      "                                                'saveState': 0,\n",
      "                                                'stage': 'PROJECTION_SIMPLE',\n",
      "                                                'transformBy': {'cuisine': 1,\n",
      "                                                                'name': 1},\n",
      "                                                'works': 1},\n",
      "                                 'isEOF': 1,\n",
      "                                 'limitAmount': 5,\n",
      "                                 'nReturned': 0,\n",
      "                                 'needTime': 0,\n",
      "                                 'needYield': 0,\n",
      "                                 'restoreState': 0,\n",
      "                                 'saveState': 0,\n",
      "                                 'stage': 'LIMIT',\n",
      "                                 'works': 1},\n",
      "             'executionSuccess': True,\n",
      "             'executionTimeMillis': 0,\n",
      "             'nReturned': 0,\n",
      "             'shardName': 'shard2rs',\n",
      "             'totalDocsExamined': 0,\n",
      "             'totalKeysExamined': 0},\n",
      "            {'allPlansExecution': [],\n",
      "             'executionStages': {'advanced': 0,\n",
      "                                 'executionTimeMillisEstimate': 0,\n",
      "                                 'inputStage': {'advanced': 0,\n",
      "                                                'executionTimeMillisEstimate': 0,\n",
      "                                                'inputStage': {'advanced': 0,\n",
      "                                                               'chunkSkips': 0,\n",
      "                                                               'executionTimeMillisEstimate': 0,\n",
      "                                                               'inputStage': {'advanced': 0,\n",
      "                                                                              'alreadyHasObj': 0,\n",
      "                                                                              'docsExamined': 0,\n",
      "                                                                              'executionTimeMillisEstimate': 0,\n",
      "                                                                              'inputStage': {'advanced': 0,\n",
      "                                                                                             'direction': 'forward',\n",
      "                                                                                             'dupsDropped': 0,\n",
      "                                                                                             'dupsTested': 0,\n",
      "                                                                                             'executionTimeMillisEstimate': 0,\n",
      "                                                                                             'indexBounds': {'borough': ['[\"Bronx\", '\n",
      "                                                                                                                         '\"Bronx\"]'],\n",
      "                                                                                                             'cuisine': ['[MinKey, '\n",
      "                                                                                                                         'MaxKey]'],\n",
      "                                                                                                             'name': ['[MinKey, '\n",
      "                                                                                                                      'MaxKey]']},\n",
      "                                                                                             'indexName': 'borough_1_cuisine_1_name_1',\n",
      "                                                                                             'indexVersion': 2,\n",
      "                                                                                             'isEOF': 1,\n",
      "                                                                                             'isMultiKey': False,\n",
      "                                                                                             'isPartial': False,\n",
      "                                                                                             'isSparse': False,\n",
      "                                                                                             'isUnique': False,\n",
      "                                                                                             'keyPattern': {'borough': 1,\n",
      "                                                                                                            'cuisine': 1,\n",
      "                                                                                                            'name': 1},\n",
      "                                                                                             'keysExamined': 0,\n",
      "                                                                                             'multiKeyPaths': {'borough': [],\n",
      "                                                                                                               'cuisine': [],\n",
      "                                                                                                               'name': []},\n",
      "                                                                                             'nReturned': 0,\n",
      "                                                                                             'needTime': 0,\n",
      "                                                                                             'needYield': 0,\n",
      "                                                                                             'restoreState': 0,\n",
      "                                                                                             'saveState': 0,\n",
      "                                                                                             'seeks': 1,\n",
      "                                                                                             'stage': 'IXSCAN',\n",
      "                                                                                             'works': 1},\n",
      "                                                                              'isEOF': 1,\n",
      "                                                                              'nReturned': 0,\n",
      "                                                                              'needTime': 0,\n",
      "                                                                              'needYield': 0,\n",
      "                                                                              'restoreState': 0,\n",
      "                                                                              'saveState': 0,\n",
      "                                                                              'stage': 'FETCH',\n",
      "                                                                              'works': 1},\n",
      "                                                               'isEOF': 1,\n",
      "                                                               'nReturned': 0,\n",
      "                                                               'needTime': 0,\n",
      "                                                               'needYield': 0,\n",
      "                                                               'restoreState': 0,\n",
      "                                                               'saveState': 0,\n",
      "                                                               'stage': 'SHARDING_FILTER',\n",
      "                                                               'works': 1},\n",
      "                                                'isEOF': 1,\n",
      "                                                'nReturned': 0,\n",
      "                                                'needTime': 0,\n",
      "                                                'needYield': 0,\n",
      "                                                'restoreState': 0,\n",
      "                                                'saveState': 0,\n",
      "                                                'stage': 'PROJECTION_SIMPLE',\n",
      "                                                'transformBy': {'cuisine': 1,\n",
      "                                                                'name': 1},\n",
      "                                                'works': 1},\n",
      "                                 'isEOF': 1,\n",
      "                                 'limitAmount': 5,\n",
      "                                 'nReturned': 0,\n",
      "                                 'needTime': 0,\n",
      "                                 'needYield': 0,\n",
      "                                 'restoreState': 0,\n",
      "                                 'saveState': 0,\n",
      "                                 'stage': 'LIMIT',\n",
      "                                 'works': 1},\n",
      "             'executionSuccess': True,\n",
      "             'executionTimeMillis': 0,\n",
      "             'nReturned': 0,\n",
      "             'shardName': 'shard4rs',\n",
      "             'totalDocsExamined': 0,\n",
      "             'totalKeysExamined': 0},\n",
      "            {'allPlansExecution': [],\n",
      "             'executionStages': {'advanced': 0,\n",
      "                                 'executionTimeMillisEstimate': 0,\n",
      "                                 'inputStage': {'advanced': 0,\n",
      "                                                'executionTimeMillisEstimate': 0,\n",
      "                                                'inputStage': {'advanced': 0,\n",
      "                                                               'chunkSkips': 0,\n",
      "                                                               'executionTimeMillisEstimate': 0,\n",
      "                                                               'inputStage': {'advanced': 0,\n",
      "                                                                              'alreadyHasObj': 0,\n",
      "                                                                              'docsExamined': 0,\n",
      "                                                                              'executionTimeMillisEstimate': 0,\n",
      "                                                                              'inputStage': {'advanced': 0,\n",
      "                                                                                             'direction': 'forward',\n",
      "                                                                                             'dupsDropped': 0,\n",
      "                                                                                             'dupsTested': 0,\n",
      "                                                                                             'executionTimeMillisEstimate': 0,\n",
      "                                                                                             'indexBounds': {'borough': ['[\"Bronx\", '\n",
      "                                                                                                                         '\"Bronx\"]'],\n",
      "                                                                                                             'cuisine': ['[MinKey, '\n",
      "                                                                                                                         'MaxKey]'],\n",
      "                                                                                                             'name': ['[MinKey, '\n",
      "                                                                                                                      'MaxKey]']},\n",
      "                                                                                             'indexName': 'borough_1_cuisine_1_name_1',\n",
      "                                                                                             'indexVersion': 2,\n",
      "                                                                                             'isEOF': 1,\n",
      "                                                                                             'isMultiKey': False,\n",
      "                                                                                             'isPartial': False,\n",
      "                                                                                             'isSparse': False,\n",
      "                                                                                             'isUnique': False,\n",
      "                                                                                             'keyPattern': {'borough': 1,\n",
      "                                                                                                            'cuisine': 1,\n",
      "                                                                                                            'name': 1},\n",
      "                                                                                             'keysExamined': 0,\n",
      "                                                                                             'multiKeyPaths': {'borough': [],\n",
      "                                                                                                               'cuisine': [],\n",
      "                                                                                                               'name': []},\n",
      "                                                                                             'nReturned': 0,\n",
      "                                                                                             'needTime': 0,\n",
      "                                                                                             'needYield': 0,\n",
      "                                                                                             'restoreState': 0,\n",
      "                                                                                             'saveState': 0,\n",
      "                                                                                             'seeks': 1,\n",
      "                                                                                             'stage': 'IXSCAN',\n",
      "                                                                                             'works': 1},\n",
      "                                                                              'isEOF': 1,\n",
      "                                                                              'nReturned': 0,\n",
      "                                                                              'needTime': 0,\n",
      "                                                                              'needYield': 0,\n",
      "                                                                              'restoreState': 0,\n",
      "                                                                              'saveState': 0,\n",
      "                                                                              'stage': 'FETCH',\n",
      "                                                                              'works': 1},\n",
      "                                                               'isEOF': 1,\n",
      "                                                               'nReturned': 0,\n",
      "                                                               'needTime': 0,\n",
      "                                                               'needYield': 0,\n",
      "                                                               'restoreState': 0,\n",
      "                                                               'saveState': 0,\n",
      "                                                               'stage': 'SHARDING_FILTER',\n",
      "                                                               'works': 1},\n",
      "                                                'isEOF': 1,\n",
      "                                                'nReturned': 0,\n",
      "                                                'needTime': 0,\n",
      "                                                'needYield': 0,\n",
      "                                                'restoreState': 0,\n",
      "                                                'saveState': 0,\n",
      "                                                'stage': 'PROJECTION_SIMPLE',\n",
      "                                                'transformBy': {'cuisine': 1,\n",
      "                                                                'name': 1},\n",
      "                                                'works': 1},\n",
      "                                 'isEOF': 1,\n",
      "                                 'limitAmount': 5,\n",
      "                                 'nReturned': 0,\n",
      "                                 'needTime': 0,\n",
      "                                 'needYield': 0,\n",
      "                                 'restoreState': 0,\n",
      "                                 'saveState': 0,\n",
      "                                 'stage': 'LIMIT',\n",
      "                                 'works': 1},\n",
      "             'executionSuccess': True,\n",
      "             'executionTimeMillis': 0,\n",
      "             'nReturned': 0,\n",
      "             'shardName': 'shard3rs',\n",
      "             'totalDocsExamined': 0,\n",
      "             'totalKeysExamined': 0}],\n",
      " 'stage': 'SHARD_MERGE',\n",
      " 'totalChildMillis': 0,\n",
      " 'totalDocsExamined': 0,\n",
      " 'totalKeysExamined': 0}\n",
      "--\n"
     ]
    }
   ],
   "source": [
    "plan_summary(q.explain())"
   ]
  },
  {
   "cell_type": "code",
   "execution_count": 8,
   "metadata": {},
   "outputs": [
    {
     "data": {
      "text/plain": [
       "[]"
      ]
     },
     "execution_count": 8,
     "metadata": {},
     "output_type": "execute_result"
    }
   ],
   "source": [
    "q = coll.find(\n",
    "    {\n",
    "        'borough': 'Bronx'\n",
    "    },\n",
    "    {\n",
    "        'cuisine': 1,\n",
    "        'name': 1,\n",
    "        '_id': 0\n",
    "    }\n",
    ")\n",
    "list(q.limit(5))"
   ]
  },
  {
   "cell_type": "code",
   "execution_count": 9,
   "metadata": {},
   "outputs": [
    {
     "name": "stdout",
     "output_type": "stream",
     "text": [
      "Execution Stages\n",
      "{'executionTimeMillis': 1,\n",
      " 'nReturned': 0,\n",
      " 'shards': [{'allPlansExecution': [],\n",
      "             'executionStages': {'advanced': 0,\n",
      "                                 'executionTimeMillisEstimate': 0,\n",
      "                                 'inputStage': {'advanced': 0,\n",
      "                                                'executionTimeMillisEstimate': 0,\n",
      "                                                'inputStage': {'advanced': 0,\n",
      "                                                               'chunkSkips': 0,\n",
      "                                                               'executionTimeMillisEstimate': 0,\n",
      "                                                               'inputStage': {'advanced': 0,\n",
      "                                                                              'alreadyHasObj': 0,\n",
      "                                                                              'docsExamined': 0,\n",
      "                                                                              'executionTimeMillisEstimate': 0,\n",
      "                                                                              'inputStage': {'advanced': 0,\n",
      "                                                                                             'direction': 'forward',\n",
      "                                                                                             'dupsDropped': 0,\n",
      "                                                                                             'dupsTested': 0,\n",
      "                                                                                             'executionTimeMillisEstimate': 0,\n",
      "                                                                                             'indexBounds': {'borough': ['[\"Bronx\", '\n",
      "                                                                                                                         '\"Bronx\"]'],\n",
      "                                                                                                             'cuisine': ['[MinKey, '\n",
      "                                                                                                                         'MaxKey]'],\n",
      "                                                                                                             'name': ['[MinKey, '\n",
      "                                                                                                                      'MaxKey]']},\n",
      "                                                                                             'indexName': 'borough_1_cuisine_1_name_1',\n",
      "                                                                                             'indexVersion': 2,\n",
      "                                                                                             'isEOF': 1,\n",
      "                                                                                             'isMultiKey': False,\n",
      "                                                                                             'isPartial': False,\n",
      "                                                                                             'isSparse': False,\n",
      "                                                                                             'isUnique': False,\n",
      "                                                                                             'keyPattern': {'borough': 1,\n",
      "                                                                                                            'cuisine': 1,\n",
      "                                                                                                            'name': 1},\n",
      "                                                                                             'keysExamined': 0,\n",
      "                                                                                             'multiKeyPaths': {'borough': [],\n",
      "                                                                                                               'cuisine': [],\n",
      "                                                                                                               'name': []},\n",
      "                                                                                             'nReturned': 0,\n",
      "                                                                                             'needTime': 0,\n",
      "                                                                                             'needYield': 0,\n",
      "                                                                                             'restoreState': 0,\n",
      "                                                                                             'saveState': 0,\n",
      "                                                                                             'seeks': 1,\n",
      "                                                                                             'stage': 'IXSCAN',\n",
      "                                                                                             'works': 1},\n",
      "                                                                              'isEOF': 1,\n",
      "                                                                              'nReturned': 0,\n",
      "                                                                              'needTime': 0,\n",
      "                                                                              'needYield': 0,\n",
      "                                                                              'restoreState': 0,\n",
      "                                                                              'saveState': 0,\n",
      "                                                                              'stage': 'FETCH',\n",
      "                                                                              'works': 1},\n",
      "                                                               'isEOF': 1,\n",
      "                                                               'nReturned': 0,\n",
      "                                                               'needTime': 0,\n",
      "                                                               'needYield': 0,\n",
      "                                                               'restoreState': 0,\n",
      "                                                               'saveState': 0,\n",
      "                                                               'stage': 'SHARDING_FILTER',\n",
      "                                                               'works': 1},\n",
      "                                                'isEOF': 1,\n",
      "                                                'nReturned': 0,\n",
      "                                                'needTime': 0,\n",
      "                                                'needYield': 0,\n",
      "                                                'restoreState': 0,\n",
      "                                                'saveState': 0,\n",
      "                                                'stage': 'PROJECTION_SIMPLE',\n",
      "                                                'transformBy': {'_id': 0,\n",
      "                                                                'cuisine': 1,\n",
      "                                                                'name': 1},\n",
      "                                                'works': 1},\n",
      "                                 'isEOF': 1,\n",
      "                                 'limitAmount': 5,\n",
      "                                 'nReturned': 0,\n",
      "                                 'needTime': 0,\n",
      "                                 'needYield': 0,\n",
      "                                 'restoreState': 0,\n",
      "                                 'saveState': 0,\n",
      "                                 'stage': 'LIMIT',\n",
      "                                 'works': 1},\n",
      "             'executionSuccess': True,\n",
      "             'executionTimeMillis': 0,\n",
      "             'nReturned': 0,\n",
      "             'shardName': 'shard2rs',\n",
      "             'totalDocsExamined': 0,\n",
      "             'totalKeysExamined': 0},\n",
      "            {'allPlansExecution': [],\n",
      "             'executionStages': {'advanced': 0,\n",
      "                                 'executionTimeMillisEstimate': 0,\n",
      "                                 'inputStage': {'advanced': 0,\n",
      "                                                'executionTimeMillisEstimate': 0,\n",
      "                                                'inputStage': {'advanced': 0,\n",
      "                                                               'chunkSkips': 0,\n",
      "                                                               'executionTimeMillisEstimate': 0,\n",
      "                                                               'inputStage': {'advanced': 0,\n",
      "                                                                              'alreadyHasObj': 0,\n",
      "                                                                              'docsExamined': 0,\n",
      "                                                                              'executionTimeMillisEstimate': 0,\n",
      "                                                                              'inputStage': {'advanced': 0,\n",
      "                                                                                             'direction': 'forward',\n",
      "                                                                                             'dupsDropped': 0,\n",
      "                                                                                             'dupsTested': 0,\n",
      "                                                                                             'executionTimeMillisEstimate': 0,\n",
      "                                                                                             'indexBounds': {'borough': ['[\"Bronx\", '\n",
      "                                                                                                                         '\"Bronx\"]'],\n",
      "                                                                                                             'cuisine': ['[MinKey, '\n",
      "                                                                                                                         'MaxKey]'],\n",
      "                                                                                                             'name': ['[MinKey, '\n",
      "                                                                                                                      'MaxKey]']},\n",
      "                                                                                             'indexName': 'borough_1_cuisine_1_name_1',\n",
      "                                                                                             'indexVersion': 2,\n",
      "                                                                                             'isEOF': 1,\n",
      "                                                                                             'isMultiKey': False,\n",
      "                                                                                             'isPartial': False,\n",
      "                                                                                             'isSparse': False,\n",
      "                                                                                             'isUnique': False,\n",
      "                                                                                             'keyPattern': {'borough': 1,\n",
      "                                                                                                            'cuisine': 1,\n",
      "                                                                                                            'name': 1},\n",
      "                                                                                             'keysExamined': 0,\n",
      "                                                                                             'multiKeyPaths': {'borough': [],\n",
      "                                                                                                               'cuisine': [],\n",
      "                                                                                                               'name': []},\n",
      "                                                                                             'nReturned': 0,\n",
      "                                                                                             'needTime': 0,\n",
      "                                                                                             'needYield': 0,\n",
      "                                                                                             'restoreState': 0,\n",
      "                                                                                             'saveState': 0,\n",
      "                                                                                             'seeks': 1,\n",
      "                                                                                             'stage': 'IXSCAN',\n",
      "                                                                                             'works': 1},\n",
      "                                                                              'isEOF': 1,\n",
      "                                                                              'nReturned': 0,\n",
      "                                                                              'needTime': 0,\n",
      "                                                                              'needYield': 0,\n",
      "                                                                              'restoreState': 0,\n",
      "                                                                              'saveState': 0,\n",
      "                                                                              'stage': 'FETCH',\n",
      "                                                                              'works': 1},\n",
      "                                                               'isEOF': 1,\n",
      "                                                               'nReturned': 0,\n",
      "                                                               'needTime': 0,\n"
     ]
    },
    {
     "name": "stdout",
     "output_type": "stream",
     "text": [
      "                                                               'needYield': 0,\n",
      "                                                               'restoreState': 0,\n",
      "                                                               'saveState': 0,\n",
      "                                                               'stage': 'SHARDING_FILTER',\n",
      "                                                               'works': 1},\n",
      "                                                'isEOF': 1,\n",
      "                                                'nReturned': 0,\n",
      "                                                'needTime': 0,\n",
      "                                                'needYield': 0,\n",
      "                                                'restoreState': 0,\n",
      "                                                'saveState': 0,\n",
      "                                                'stage': 'PROJECTION_SIMPLE',\n",
      "                                                'transformBy': {'_id': 0,\n",
      "                                                                'cuisine': 1,\n",
      "                                                                'name': 1},\n",
      "                                                'works': 1},\n",
      "                                 'isEOF': 1,\n",
      "                                 'limitAmount': 5,\n",
      "                                 'nReturned': 0,\n",
      "                                 'needTime': 0,\n",
      "                                 'needYield': 0,\n",
      "                                 'restoreState': 0,\n",
      "                                 'saveState': 0,\n",
      "                                 'stage': 'LIMIT',\n",
      "                                 'works': 1},\n",
      "             'executionSuccess': True,\n",
      "             'executionTimeMillis': 0,\n",
      "             'nReturned': 0,\n",
      "             'shardName': 'shard3rs',\n",
      "             'totalDocsExamined': 0,\n",
      "             'totalKeysExamined': 0},\n",
      "            {'allPlansExecution': [],\n",
      "             'executionStages': {'advanced': 0,\n",
      "                                 'executionTimeMillisEstimate': 0,\n",
      "                                 'inputStage': {'advanced': 0,\n",
      "                                                'executionTimeMillisEstimate': 0,\n",
      "                                                'inputStage': {'advanced': 0,\n",
      "                                                               'chunkSkips': 0,\n",
      "                                                               'executionTimeMillisEstimate': 0,\n",
      "                                                               'inputStage': {'advanced': 0,\n",
      "                                                                              'alreadyHasObj': 0,\n",
      "                                                                              'docsExamined': 0,\n",
      "                                                                              'executionTimeMillisEstimate': 0,\n",
      "                                                                              'inputStage': {'advanced': 0,\n",
      "                                                                                             'direction': 'forward',\n",
      "                                                                                             'dupsDropped': 0,\n",
      "                                                                                             'dupsTested': 0,\n",
      "                                                                                             'executionTimeMillisEstimate': 0,\n",
      "                                                                                             'indexBounds': {'borough': ['[\"Bronx\", '\n",
      "                                                                                                                         '\"Bronx\"]'],\n",
      "                                                                                                             'cuisine': ['[MinKey, '\n",
      "                                                                                                                         'MaxKey]'],\n",
      "                                                                                                             'name': ['[MinKey, '\n",
      "                                                                                                                      'MaxKey]']},\n",
      "                                                                                             'indexName': 'borough_1_cuisine_1_name_1',\n",
      "                                                                                             'indexVersion': 2,\n",
      "                                                                                             'isEOF': 1,\n",
      "                                                                                             'isMultiKey': False,\n",
      "                                                                                             'isPartial': False,\n",
      "                                                                                             'isSparse': False,\n",
      "                                                                                             'isUnique': False,\n",
      "                                                                                             'keyPattern': {'borough': 1,\n",
      "                                                                                                            'cuisine': 1,\n",
      "                                                                                                            'name': 1},\n",
      "                                                                                             'keysExamined': 0,\n",
      "                                                                                             'multiKeyPaths': {'borough': [],\n",
      "                                                                                                               'cuisine': [],\n",
      "                                                                                                               'name': []},\n",
      "                                                                                             'nReturned': 0,\n",
      "                                                                                             'needTime': 0,\n",
      "                                                                                             'needYield': 0,\n",
      "                                                                                             'restoreState': 0,\n",
      "                                                                                             'saveState': 0,\n",
      "                                                                                             'seeks': 1,\n",
      "                                                                                             'stage': 'IXSCAN',\n",
      "                                                                                             'works': 1},\n",
      "                                                                              'isEOF': 1,\n",
      "                                                                              'nReturned': 0,\n",
      "                                                                              'needTime': 0,\n",
      "                                                                              'needYield': 0,\n",
      "                                                                              'restoreState': 0,\n",
      "                                                                              'saveState': 0,\n",
      "                                                                              'stage': 'FETCH',\n",
      "                                                                              'works': 1},\n",
      "                                                               'isEOF': 1,\n",
      "                                                               'nReturned': 0,\n",
      "                                                               'needTime': 0,\n",
      "                                                               'needYield': 0,\n",
      "                                                               'restoreState': 0,\n",
      "                                                               'saveState': 0,\n",
      "                                                               'stage': 'SHARDING_FILTER',\n",
      "                                                               'works': 1},\n",
      "                                                'isEOF': 1,\n",
      "                                                'nReturned': 0,\n",
      "                                                'needTime': 0,\n",
      "                                                'needYield': 0,\n",
      "                                                'restoreState': 0,\n",
      "                                                'saveState': 0,\n",
      "                                                'stage': 'PROJECTION_SIMPLE',\n",
      "                                                'transformBy': {'_id': 0,\n",
      "                                                                'cuisine': 1,\n",
      "                                                                'name': 1},\n",
      "                                                'works': 1},\n",
      "                                 'isEOF': 1,\n",
      "                                 'limitAmount': 5,\n",
      "                                 'nReturned': 0,\n",
      "                                 'needTime': 0,\n",
      "                                 'needYield': 0,\n",
      "                                 'restoreState': 0,\n",
      "                                 'saveState': 0,\n",
      "                                 'stage': 'LIMIT',\n",
      "                                 'works': 1},\n",
      "             'executionSuccess': True,\n",
      "             'executionTimeMillis': 0,\n",
      "             'nReturned': 0,\n",
      "             'shardName': 'shard4rs',\n",
      "             'totalDocsExamined': 0,\n",
      "             'totalKeysExamined': 0}],\n",
      " 'stage': 'SHARD_MERGE',\n",
      " 'totalChildMillis': 0,\n",
      " 'totalDocsExamined': 0,\n",
      " 'totalKeysExamined': 0}\n",
      "--\n"
     ]
    }
   ],
   "source": [
    "plan_summary(q.explain())"
   ]
  },
  {
   "cell_type": "markdown",
   "metadata": {},
   "source": [
    "# Geospatial Indexing"
   ]
  },
  {
   "cell_type": "code",
   "execution_count": 10,
   "metadata": {},
   "outputs": [
    {
     "data": {
      "text/plain": [
       "'address.coord_2dsphere'"
      ]
     },
     "execution_count": 10,
     "metadata": {},
     "output_type": "execute_result"
    }
   ],
   "source": [
    "coll.create_index([\n",
    "    ('address.coord', '2dsphere')  # longitude, latitude \n",
    "])"
   ]
  },
  {
   "cell_type": "code",
   "execution_count": 11,
   "metadata": {},
   "outputs": [],
   "source": [
    "doc = coll.find_one()"
   ]
  },
  {
   "cell_type": "code",
   "execution_count": 12,
   "metadata": {},
   "outputs": [
    {
     "data": {
      "text/plain": [
       "{'_id': ObjectId('60abc72b99e7e0f50266f015'),\n",
       " 'name': 'Daniel',\n",
       " 'cuisine': 'Sushi',\n",
       " 'stars': 1.8,\n",
       " 'address': {'street': '844 Ozaiti Terrace',\n",
       "  'city': 'Puugilu',\n",
       "  'state': 'DC',\n",
       "  'zipcode': '87625'}}"
      ]
     },
     "execution_count": 12,
     "metadata": {},
     "output_type": "execute_result"
    }
   ],
   "source": [
    "doc"
   ]
  },
  {
   "cell_type": "code",
   "execution_count": 14,
   "metadata": {},
   "outputs": [
    {
     "ename": "KeyError",
     "evalue": "'coord'",
     "output_type": "error",
     "traceback": [
      "\u001b[1;31m---------------------------------------------------------------------------\u001b[0m",
      "\u001b[1;31mKeyError\u001b[0m                                  Traceback (most recent call last)",
      "\u001b[1;32m<ipython-input-14-58b62bd15bf7>\u001b[0m in \u001b[0;36m<module>\u001b[1;34m\u001b[0m\n\u001b[0;32m      1\u001b[0m q = coll.find(\n\u001b[0;32m      2\u001b[0m     {'address.coord': {\n\u001b[1;32m----> 3\u001b[1;33m         \u001b[1;34m'$nearSphere'\u001b[0m\u001b[1;33m:\u001b[0m \u001b[0mdoc\u001b[0m\u001b[1;33m[\u001b[0m\u001b[1;34m'address'\u001b[0m\u001b[1;33m]\u001b[0m\u001b[1;33m[\u001b[0m\u001b[1;34m'coord'\u001b[0m\u001b[1;33m]\u001b[0m\u001b[1;33m\u001b[0m\u001b[1;33m\u001b[0m\u001b[0m\n\u001b[0m\u001b[0;32m      4\u001b[0m     }},\n\u001b[0;32m      5\u001b[0m     \u001b[1;33m{\u001b[0m\u001b[1;34m'_id'\u001b[0m\u001b[1;33m:\u001b[0m \u001b[1;36m0\u001b[0m\u001b[1;33m,\u001b[0m \u001b[1;34m'name'\u001b[0m\u001b[1;33m:\u001b[0m \u001b[1;36m1\u001b[0m\u001b[1;33m,\u001b[0m \u001b[1;34m'address.coord'\u001b[0m\u001b[1;33m:\u001b[0m \u001b[1;36m1\u001b[0m\u001b[1;33m}\u001b[0m\u001b[1;33m\u001b[0m\u001b[1;33m\u001b[0m\u001b[0m\n",
      "\u001b[1;31mKeyError\u001b[0m: 'coord'"
     ]
    }
   ],
   "source": [
    "q = coll.find(\n",
    "    {'address.coord': {\n",
    "        '$nearSphere': doc['address']['coord']\n",
    "    }},\n",
    "    {'_id': 0, 'name': 1, 'address.coord': 1}\n",
    ").limit(5)\n",
    "list(q)"
   ]
  },
  {
   "cell_type": "code",
   "execution_count": null,
   "metadata": {},
   "outputs": [],
   "source": [
    "point = {\n",
    "    '$type': 'Point',\n",
    "    'coordinates': doc['address']['coord']\n",
    "}\n",
    "q = coll.find(\n",
    "    {'address.coord': {'$nearSphere': {'$geometry': point}}},\n",
    "    {'_id': 0, 'name': 1, 'address.coord': 1}\n",
    ").limit(5)\n",
    "list(q)"
   ]
  },
  {
   "cell_type": "code",
   "execution_count": null,
   "metadata": {},
   "outputs": [],
   "source": [
    "res = db.command('geoNear', 'restaurants', near=point, spherical=True)\n",
    "res"
   ]
  },
  {
   "cell_type": "code",
   "execution_count": null,
   "metadata": {},
   "outputs": [],
   "source": [
    "for i, doc in enumerate(res['results']):\n",
    "    if i > 5:\n",
    "        break\n",
    "    print('{:.1f} meters away: {}'.format(doc['dis'], doc['obj']['name']))"
   ]
  },
  {
   "cell_type": "markdown",
   "metadata": {},
   "source": [
    "# Full-text search and indexing"
   ]
  },
  {
   "cell_type": "code",
   "execution_count": 15,
   "metadata": {},
   "outputs": [
    {
     "name": "stderr",
     "output_type": "stream",
     "text": [
      "C:\\Users\\nayeem\\Anaconda3\\lib\\site-packages\\ipykernel_launcher.py:3: DeprecationWarning: count is deprecated. Use Collection.count_documents instead.\n",
      "  This is separate from the ipykernel package so we can avoid doing imports until\n"
     ]
    },
    {
     "data": {
      "text/plain": [
       "0"
      ]
     },
     "execution_count": 15,
     "metadata": {},
     "output_type": "execute_result"
    }
   ],
   "source": [
    "import re\n",
    "q_re = coll.find({'name': re.compile('^Dunkin')})\n",
    "q_re.count()"
   ]
  },
  {
   "cell_type": "code",
   "execution_count": 16,
   "metadata": {},
   "outputs": [
    {
     "data": {
      "text/plain": [
       "'name_text'"
      ]
     },
     "execution_count": 16,
     "metadata": {},
     "output_type": "execute_result"
    }
   ],
   "source": [
    "coll.create_index([('name', 'text')])"
   ]
  },
  {
   "cell_type": "code",
   "execution_count": 17,
   "metadata": {},
   "outputs": [
    {
     "name": "stderr",
     "output_type": "stream",
     "text": [
      "C:\\Users\\nayeem\\Anaconda3\\lib\\site-packages\\ipykernel_launcher.py:5: DeprecationWarning: count is deprecated. Use Collection.count_documents instead.\n",
      "  \"\"\"\n"
     ]
    },
    {
     "data": {
      "text/plain": [
       "0"
      ]
     },
     "execution_count": 17,
     "metadata": {},
     "output_type": "execute_result"
    }
   ],
   "source": [
    "q_text = coll.find({'$text': {\n",
    "    '$search': 'Dunkin',\n",
    "    '$caseSensitive': True\n",
    "}})\n",
    "q_text.count()"
   ]
  },
  {
   "cell_type": "code",
   "execution_count": null,
   "metadata": {},
   "outputs": [],
   "source": [
    "found_with_re = {doc['_id'] for doc in q_re}\n",
    "found_with_text = {doc['_id'] for doc in q_text}"
   ]
  },
  {
   "cell_type": "code",
   "execution_count": null,
   "metadata": {},
   "outputs": [],
   "source": [
    "print('Found with re but not text:')\n",
    "for _id in found_with_re - found_with_text:\n",
    "    print(coll.find_one({'_id': _id}, {'name': 1}))\n",
    "print('Found with text but not re:')\n",
    "for _id in found_with_text - found_with_re:\n",
    "    print(coll.find_one({'_id': _id}, {'name': 1}))"
   ]
  },
  {
   "cell_type": "code",
   "execution_count": null,
   "metadata": {},
   "outputs": [],
   "source": [
    "coll.drop_indexes()"
   ]
  },
  {
   "cell_type": "code",
   "execution_count": null,
   "metadata": {},
   "outputs": [],
   "source": [
    "coll.create_index([(\"$**\", \"text\")])"
   ]
  },
  {
   "cell_type": "code",
   "execution_count": null,
   "metadata": {},
   "outputs": [],
   "source": [
    "q_text = coll.find({'$text': {\n",
    "    '$search': 'donut'     # finds everything with donut in name, cuisine, borough, or address\n",
    "}})\n",
    "q_text.count()"
   ]
  },
  {
   "cell_type": "code",
   "execution_count": null,
   "metadata": {},
   "outputs": [],
   "source": [
    "q_text = coll.find({'$text': {\n",
    "    '$search': 'queen'     # finds everything with queen in name, cuisine, borough, or address (incl. \"Queens\")\n",
    "}})\n",
    "q_text.count()"
   ]
  },
  {
   "cell_type": "code",
   "execution_count": null,
   "metadata": {},
   "outputs": [],
   "source": []
  }
 ],
 "metadata": {
  "kernelspec": {
   "display_name": "Python 3",
   "language": "python",
   "name": "python3"
  },
  "language_info": {
   "codemirror_mode": {
    "name": "ipython",
    "version": 3
   },
   "file_extension": ".py",
   "mimetype": "text/x-python",
   "name": "python",
   "nbconvert_exporter": "python",
   "pygments_lexer": "ipython3",
   "version": "3.7.1"
  }
 },
 "nbformat": 4,
 "nbformat_minor": 2
}
